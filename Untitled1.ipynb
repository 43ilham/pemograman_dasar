{
  "nbformat": 4,
  "nbformat_minor": 0,
  "metadata": {
    "colab": {
      "provenance": [],
      "authorship_tag": "ABX9TyO8XBmISooCjbvqp4nO0k8L",
      "include_colab_link": true
    },
    "kernelspec": {
      "name": "python3",
      "display_name": "Python 3"
    },
    "language_info": {
      "name": "python"
    }
  },
  "cells": [
    {
      "cell_type": "markdown",
      "metadata": {
        "id": "view-in-github",
        "colab_type": "text"
      },
      "source": [
        "<a href=\"https://colab.research.google.com/github/43ilham/pemograman_dasar/blob/main/Untitled1.ipynb\" target=\"_parent\"><img src=\"https://colab.research.google.com/assets/colab-badge.svg\" alt=\"Open In Colab\"/></a>"
      ]
    },
    {
      "cell_type": "code",
      "execution_count": 1,
      "metadata": {
        "colab": {
          "base_uri": "https://localhost:8080/"
        },
        "id": "tMZ_oy7grkLg",
        "outputId": "6213ea14-3102-413f-e209-c348d6b968e7"
      },
      "outputs": [
        {
          "output_type": "stream",
          "name": "stdout",
          "text": [
            "Penjumlahan : 13\n",
            "Pengurangan : 7\n",
            "Perkalian   : 30\n",
            "Pembagian   : 3.3333333333333335\n",
            "Modulus     : 1\n",
            "Pangkat     : 1000\n",
            "Floor Div   : 3\n"
          ]
        }
      ],
      "source": [
        "a = 10\n",
        "b = 3\n",
        "print(\"Penjumlahan :\", a + b)\n",
        "print(\"Pengurangan :\", a - b)\n",
        "print(\"Perkalian   :\", a * b)\n",
        "print(\"Pembagian   :\", a / b)\n",
        "print(\"Modulus     :\", a % b)\n",
        "print(\"Pangkat     :\", a ** b)\n",
        "print(\"Floor Div   :\", a // b)"
      ]
    },
    {
      "cell_type": "code",
      "source": [
        "x = 5\n",
        "y = 10\n",
        "print(x == y)\n",
        "print(x != y)\n",
        "print(x > y)\n",
        "print(x < y)\n",
        "print(x >= y)\n",
        "print(x <= y)\n"
      ],
      "metadata": {
        "colab": {
          "base_uri": "https://localhost:8080/"
        },
        "id": "7G6POYgyryOb",
        "outputId": "c8aeef69-0474-4739-ef42-6ef543a71234"
      },
      "execution_count": 2,
      "outputs": [
        {
          "output_type": "stream",
          "name": "stdout",
          "text": [
            "False\n",
            "True\n",
            "False\n",
            "True\n",
            "False\n",
            "True\n"
          ]
        }
      ]
    },
    {
      "cell_type": "code",
      "source": [
        "nilai = 80\n",
        "print(nilai > 70 and nilai < 90)\n",
        "print(nilai > 70 or nilai < 60)\n",
        "print(not(nilai > 70))\n"
      ],
      "metadata": {
        "colab": {
          "base_uri": "https://localhost:8080/"
        },
        "id": "fqpZlCwPsNUb",
        "outputId": "ffe87e37-4786-4f8d-e13f-cc8e195943e9"
      },
      "execution_count": 3,
      "outputs": [
        {
          "output_type": "stream",
          "name": "stdout",
          "text": [
            "True\n",
            "True\n",
            "False\n"
          ]
        }
      ]
    },
    {
      "cell_type": "code",
      "source": [
        "buah = [\"apel\", \"jeruk\", \"mangga\"]\n",
        "print(\"apel\" in buah)\n",
        "print(\"pisang\" not in buah)\n"
      ],
      "metadata": {
        "colab": {
          "base_uri": "https://localhost:8080/"
        },
        "id": "SCEOkFSasiXK",
        "outputId": "6fe29112-8892-4553-97ed-03673481565a"
      },
      "execution_count": 4,
      "outputs": [
        {
          "output_type": "stream",
          "name": "stdout",
          "text": [
            "True\n",
            "True\n"
          ]
        }
      ]
    },
    {
      "cell_type": "code",
      "source": [
        "a = [1,2,3]\n",
        "b = a\n",
        "c = [1,2,3]\n",
        "print(a is b)\n",
        "print(a is c)\n",
        "print(a == c)\n"
      ],
      "metadata": {
        "colab": {
          "base_uri": "https://localhost:8080/"
        },
        "id": "MWLqzhavs0JP",
        "outputId": "b6d2957f-2553-4dcf-eb9a-3a3cd2ff93da"
      },
      "execution_count": 5,
      "outputs": [
        {
          "output_type": "stream",
          "name": "stdout",
          "text": [
            "True\n",
            "False\n",
            "True\n"
          ]
        }
      ]
    }
  ]
}