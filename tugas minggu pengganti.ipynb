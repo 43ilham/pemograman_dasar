{
  "nbformat": 4,
  "nbformat_minor": 0,
  "metadata": {
    "colab": {
      "provenance": [],
      "authorship_tag": "ABX9TyPwV3KIuEFzUy6lqbmkuSg0",
      "include_colab_link": true
    },
    "kernelspec": {
      "name": "python3",
      "display_name": "Python 3"
    },
    "language_info": {
      "name": "python"
    }
  },
  "cells": [
    {
      "cell_type": "markdown",
      "metadata": {
        "id": "view-in-github",
        "colab_type": "text"
      },
      "source": [
        "<a href=\"https://colab.research.google.com/github/43ilham/pemograman_dasar/blob/main/tugas%20minggu%20pengganti.ipynb\" target=\"_parent\"><img src=\"https://colab.research.google.com/assets/colab-badge.svg\" alt=\"Open In Colab\"/></a>"
      ]
    },
    {
      "cell_type": "code",
      "execution_count": null,
      "metadata": {
        "colab": {
          "base_uri": "https://localhost:8080/"
        },
        "id": "PNHW-SuhyPOR",
        "outputId": "01cc76ad-0cfd-4db2-fd1b-521a0b31afe4"
      },
      "outputs": [
        {
          "output_type": "stream",
          "name": "stdout",
          "text": [
            " Selamat datang kembali di sesi praktikum pemograman dasar.\n"
          ]
        }
      ],
      "source": [
        "def sapa_praktikan():\n",
        "    \"\"\"Mencetak pesan sambutan dasar.\"\"\"\n",
        "    print(\" Selamat datang kembali di sesi praktikum pemograman dasar.\")\n",
        "\n",
        "sapa_praktikan()\n"
      ]
    },
    {
      "cell_type": "code",
      "source": [
        "def tentukan_predikat(skor):\n",
        "    \"\"\"Menentukan predikat nilai dan validasi tipe data.\"\"\"\n",
        "\n",
        "    if not isinstance(skor, (int, float)):\n",
        "        return \"Error: Input harus berupa angka!\"\n",
        "\n",
        "    if skor >= 85:\n",
        "        return \"A\"\n",
        "    elif skor >= 70:\n",
        "        return \"B\"\n",
        "    elif skor >= 60:\n",
        "        return \"C\"\n",
        "    elif skor >= 50:\n",
        "        return \"D\"\n",
        "    else:\n",
        "        return \"E\"\n",
        "\n",
        "\n",
        "print(tentukan_predikat(77))\n",
        "print(tentukan_predikat(50))\n",
        "print(tentukan_predikat(62.5))\n",
        "print(tentukan_predikat(98))"
      ],
      "metadata": {
        "colab": {
          "base_uri": "https://localhost:8080/"
        },
        "id": "S6WkSkiCWRYH",
        "outputId": "cdf7a72a-3ca1-47ad-f222-c4fd74133141"
      },
      "execution_count": null,
      "outputs": [
        {
          "output_type": "stream",
          "name": "stdout",
          "text": [
            "B\n",
            "D\n",
            "C\n",
            "A\n"
          ]
        }
      ]
    },
    {
      "cell_type": "code",
      "source": [
        "def analisis_suhu(data_suhu, batas_panas=35, batas_dingin=15):\n",
        "    \"\"\"\n",
        "    Menghitung jumlah hari Panas dan Dingin dari data_suhu.\n",
        "    Panas = suhu >= batas_panas\n",
        "    Dingin = suhu <= batas_dingin\n",
        "    \"\"\"\n",
        "    panas_count = 0\n",
        "    dingin_count = 0\n",
        "\n",
        "    for suhu in data_suhu:\n",
        "        if suhu >= batas_panas:\n",
        "            panas_count += 1\n",
        "        elif suhu <= batas_dingin:\n",
        "            dingin_count += 1\n",
        "\n",
        "    return panas_count, dingin_count\n",
        "\n",
        "\n",
        "suhu_mingguan = [36, 20, 12, 15, 78, 16, 48]\n",
        "\n",
        "jumlah_panas, jumlah_dingin = analisis_suhu(suhu_mingguan)\n",
        "\n",
        "print(f\"Jumlah hari Panas (≥35°C): {jumlah_panas}\")\n",
        "print(f\"Jumlah hari Dingin (≤15°C): {jumlah_dingin}\")\n"
      ],
      "metadata": {
        "colab": {
          "base_uri": "https://localhost:8080/"
        },
        "id": "4EUzDZ28B4rl",
        "outputId": "7d08d4bc-bcf8-4712-ae04-53eccaba629b"
      },
      "execution_count": 3,
      "outputs": [
        {
          "output_type": "stream",
          "name": "stdout",
          "text": [
            "Jumlah hari Panas (≥35°C): 3\n",
            "Jumlah hari Dingin (≤15°C): 2\n"
          ]
        }
      ]
    },
    {
      "cell_type": "code",
      "source": [
        "def Biodata():\n",
        "    \"\"\"Menampilkan biodata lengkap.\"\"\"\n",
        "    print(\"===== BIODATA PRAKTIKAN =====\")\n",
        "    print(\"Nama        : Ilham Muhammad Zaky\")\n",
        "    print(\"NIM         : 4232401058\")\n",
        "    print(\"Kelas       : Rekayasa Pembangkitan Energi 3B Pagi\")\n",
        "    print(\"Jurusan     : Teknik Elektro\")\n",
        "    print(\"Kampus      : Politeknik Negeri Batam\")\n",
        "    print(\"Hobi        : Mancing, Bermain Futsal\")\n",
        "    print(\"MAHASISWA POLIBATAM YANG PALING TAMVAN\")\n",
        "\n",
        "Biodata()\n"
      ],
      "metadata": {
        "colab": {
          "base_uri": "https://localhost:8080/"
        },
        "id": "FXcpqVv7y1WA",
        "outputId": "79274f84-7c35-48aa-c82e-a5dfa644eb75"
      },
      "execution_count": null,
      "outputs": [
        {
          "output_type": "stream",
          "name": "stdout",
          "text": [
            "===== BIODATA PRAKTIKAN =====\n",
            "Nama        : Ilham Muhammad Zaky\n",
            "NIM         : 4232401058\n",
            "Kelas       : Rekayasa Pembangkitan Energi 3B Pagi\n",
            "Jurusan     : Teknik Elektro\n",
            "Kampus      : Politeknik Negeri Batam\n",
            "Hobi        : Mancing, Bermain Futsal\n",
            "MAHASISWA POLIBATAM YANG PALING TAMVAN\n"
          ]
        }
      ]
    },
    {
      "cell_type": "code",
      "source": [
        "def hitung_volume_balok(panjang, lebar, tinggi):\n",
        "    \"\"\"Menghitung volume balok dari panjang, lebar, dan tinggi.\"\"\"\n",
        "    return panjang * lebar * tinggi\n",
        "\n",
        "p = 10\n",
        "l = 8\n",
        "t = 5\n",
        "print(f\"Volume balok ({p} x {l} x {t}) adalah: {hitung_volume_balok(p, l, t)}\")\n"
      ],
      "metadata": {
        "colab": {
          "base_uri": "https://localhost:8080/"
        },
        "id": "p9mAZOCT1JNz",
        "outputId": "8bd51356-c2d7-4491-b0bb-4da65ea3442e"
      },
      "execution_count": null,
      "outputs": [
        {
          "output_type": "stream",
          "name": "stdout",
          "text": [
            "Volume balok (10 x 8 x 5) adalah: 400\n"
          ]
        }
      ]
    },
    {
      "cell_type": "code",
      "source": [
        "def hitung_rata_rata_validasi(data_nilai):\n",
        "    \"\"\"Menghitung rata-rata dengan mengecek nilai valid (0-100).\"\"\"\n",
        "    total = 0\n",
        "    jumlah_valid = 0\n",
        "\n",
        "    for nilai in data_nilai:\n",
        "        if 0 <= nilai <= 100:\n",
        "            total += nilai\n",
        "            jumlah_valid += 1\n",
        "        else:\n",
        "            print(f\"Nilai {nilai} diabaikan karena tidak valid!\")\n",
        "\n",
        "    if jumlah_valid > 0:\n",
        "        return total / jumlah_valid\n",
        "    return 0\n",
        "\n",
        "data = [98, 75, 120, -5, 88]\n",
        "print(f\"Rata-rata nilai valid adalah: {hitung_rata_rata_validasi(data)}\")\n"
      ],
      "metadata": {
        "colab": {
          "base_uri": "https://localhost:8080/"
        },
        "id": "YS5GBBnU2Uwc",
        "outputId": "b4032ec7-e6f2-466c-aa72-30eafa650617"
      },
      "execution_count": null,
      "outputs": [
        {
          "output_type": "stream",
          "name": "stdout",
          "text": [
            "Nilai 120 diabaikan karena tidak valid!\n",
            "Nilai -5 diabaikan karena tidak valid!\n",
            "Rata-rata nilai valid adalah: 87.0\n"
          ]
        }
      ]
    },
    {
      "cell_type": "code",
      "source": [
        "def hitung_faktorial(n):\n",
        "    \"\"\"Menghitung faktorial dengan validasi nilai n.\"\"\"\n",
        "\n",
        "    if n < 0:\n",
        "        return \"Error: Faktorial tidak didefinisikan untuk bilangan negatif!\"\n",
        "    if n == 0:\n",
        "        return 1\n",
        "\n",
        "    hasil = 1\n",
        "\n",
        "    while n > 1:\n",
        "        hasil *= n\n",
        "        n -= 1\n",
        "\n",
        "    return hasil\n",
        "\n",
        "print(hitung_faktorial(9))\n",
        "print(hitung_faktorial(0))\n",
        "print(hitung_faktorial(3))\n"
      ],
      "metadata": {
        "colab": {
          "base_uri": "https://localhost:8080/"
        },
        "id": "M7HATu0jVEIy",
        "outputId": "c9acc031-3209-49d8-cd2d-e1b0f9749000"
      },
      "execution_count": null,
      "outputs": [
        {
          "output_type": "stream",
          "name": "stdout",
          "text": [
            "362880\n",
            "1\n",
            "6\n"
          ]
        }
      ]
    }
  ]
}