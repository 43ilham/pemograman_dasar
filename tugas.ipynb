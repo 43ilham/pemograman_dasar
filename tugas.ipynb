{
  "nbformat": 4,
  "nbformat_minor": 0,
  "metadata": {
    "colab": {
      "provenance": [],
      "authorship_tag": "ABX9TyPjqHcXRWjF0yeJ5ebmDCkt",
      "include_colab_link": true
    },
    "kernelspec": {
      "name": "python3",
      "display_name": "Python 3"
    },
    "language_info": {
      "name": "python"
    }
  },
  "cells": [
    {
      "cell_type": "markdown",
      "metadata": {
        "id": "view-in-github",
        "colab_type": "text"
      },
      "source": [
        "<a href=\"https://colab.research.google.com/github/43ilham/pemograman_dasar/blob/main/tugas.ipynb\" target=\"_parent\"><img src=\"https://colab.research.google.com/assets/colab-badge.svg\" alt=\"Open In Colab\"/></a>"
      ]
    },
    {
      "cell_type": "code",
      "execution_count": null,
      "metadata": {
        "colab": {
          "base_uri": "https://localhost:8080/"
        },
        "id": "f_ngAxmLU6Di",
        "outputId": "d0f7ad04-1fab-4a26-9110-31022e2db97f"
      },
      "outputs": [
        {
          "name": "stdout",
          "output_type": "stream",
          "text": [
            "berapa porsi makan yang anda beli? : 1000\n",
            "siapa nama pelanggan ? : firtzy aldebaran\n"
          ]
        }
      ],
      "source": [
        "total = input(\"berapa porsi makan yang anda beli? : \")\n",
        "Nama = input(\"siapa nama pelanggan ? : \")"
      ]
    },
    {
      "cell_type": "code",
      "source": [
        "panjang = 90\n",
        "lebar = 50\n",
        "print(lebar * panjang)\n"
      ],
      "metadata": {
        "colab": {
          "base_uri": "https://localhost:8080/"
        },
        "id": "kvQThbRA1Q3U",
        "outputId": "0c86b697-4c6f-4ac4-e4a5-2704c92258f8"
      },
      "execution_count": null,
      "outputs": [
        {
          "output_type": "stream",
          "name": "stdout",
          "text": [
            "4500\n"
          ]
        }
      ]
    },
    {
      "cell_type": "code",
      "source": [
        "x = 11\n",
        "x *= 7\n",
        "print(x)\n",
        "\n",
        "x = 11\n",
        "x /= 5\n",
        "print(x)"
      ],
      "metadata": {
        "colab": {
          "base_uri": "https://localhost:8080/"
        },
        "id": "OLVzwnHi2fYd",
        "outputId": "4bd26608-9e00-486a-a824-3ee895f3e2f9"
      },
      "execution_count": null,
      "outputs": [
        {
          "output_type": "stream",
          "name": "stdout",
          "text": [
            "77\n",
            "2.2\n"
          ]
        }
      ]
    },
    {
      "cell_type": "code",
      "source": [
        "\n",
        "def input_angka():\n",
        "    a = float(input(\"Masukkan angka pertama: \"))\n",
        "    b = float(input(\"Masukkan angka kedua: \"))\n",
        "    return a, b\n",
        "\n",
        "\n",
        "def tambah(a, b): return a + b\n",
        "def kurang(a, b): return a - b\n",
        "def kali(a, b): return a * b\n",
        "def bagi(a, b): return a / b if b != 0 else \"Error (pembagi nol)\"\n",
        "\n",
        "def tampilkan_hasil(hasil):\n",
        "    print(\"Hasil operasi: \", hasil)\n",
        "\n",
        "print(\"=== Kalkulator Sederhana ===\")\n",
        "print(\"1. Penjumlahan\")\n",
        "print(\"2. Pengurangan\")\n",
        "print(\"3. Perkalian\")\n",
        "print(\"4. Pembagian\")\n",
        "\n",
        "pilihan = input(\"Pilih operasi (1/2/3/4): \")\n",
        "a, b = input_angka()\n",
        "\n",
        "if pilihan == \"1\":\n",
        "    tampilkan_hasil(tambah(a, b))\n",
        "elif pilihan == \"2\":\n",
        "    tampilkan_hasil(kurang(a, b))\n",
        "elif pilihan == \"3\":\n",
        "    tampilkan_hasil(kali(a, b))\n",
        "elif pilihan == \"4\":\n",
        "    tampilkan_hasil(bagi(a, b))\n",
        "else:\n",
        "    print(\"Pilihan tidak valid\")"
      ],
      "metadata": {
        "colab": {
          "base_uri": "https://localhost:8080/"
        },
        "id": "EyNWMK69qN4U",
        "outputId": "fbd4fc69-bcd1-463c-933a-889f747b4aef"
      },
      "execution_count": null,
      "outputs": [
        {
          "output_type": "stream",
          "name": "stdout",
          "text": [
            "=== Kalkulator Sederhana ===\n",
            "1. Penjumlahan\n",
            "2. Pengurangan\n",
            "3. Perkalian\n",
            "4. Pembagian\n",
            "Pilih operasi (1/2/3/4): 4\n",
            "Masukkan angka pertama: 3\n",
            "Masukkan angka kedua: 7\n",
            "Hasil operasi:  0.42857142857142855\n"
          ]
        }
      ]
    },
    {
      "cell_type": "code",
      "source": [
        "\n",
        "def cek_kabisat(tahun):\n",
        "    if (tahun % 4 == 0 and tahun % 100 != 0) or (tahun % 400 == 0):\n",
        "        return True\n",
        "    else:\n",
        "        return False\n",
        "\n",
        "tahun = int(input(\"Masukkan tahun: \"))\n",
        "\n",
        "if cek_kabisat(tahun):\n",
        "    print(f\"{tahun} adalah tahun kabisat\")\n",
        "else:\n",
        "    print(f\"{tahun} bukan tahun kabisat\")"
      ],
      "metadata": {
        "colab": {
          "base_uri": "https://localhost:8080/"
        },
        "id": "tobKx9GwsfkQ",
        "outputId": "934f6b60-770f-4262-dca7-feecfa6ac917"
      },
      "execution_count": null,
      "outputs": [
        {
          "output_type": "stream",
          "name": "stdout",
          "text": [
            "Masukkan tahun: 120\n",
            "120 adalah tahun kabisat\n"
          ]
        }
      ]
    },
    {
      "cell_type": "code",
      "source": [
        "total = int (input(\"Berapa porsi yang anda beli? : \"))\n",
        "Nama = str (input(\"siapa nama pelanggan ? :\"))"
      ],
      "metadata": {
        "colab": {
          "base_uri": "https://localhost:8080/"
        },
        "id": "NPXZpBQ6Xgbd",
        "outputId": "ea616138-0776-4993-9c38-3994e1d47943"
      },
      "execution_count": null,
      "outputs": [
        {
          "name": "stdout",
          "output_type": "stream",
          "text": [
            "Berapa porsi yang anda beli? : 79\n",
            "siapa nama pelanggan ? :saeful jamil\n"
          ]
        }
      ]
    },
    {
      "cell_type": "code",
      "source": [
        "food = \"spagethii kejuuu\"\n",
        "print(\"aqsa sedang memesan\", food)"
      ],
      "metadata": {
        "colab": {
          "base_uri": "https://localhost:8080/"
        },
        "id": "ky115ZUDZxNH",
        "outputId": "714e1653-76b5-4ee1-ea1a-c6ce10687811"
      },
      "execution_count": null,
      "outputs": [
        {
          "output_type": "stream",
          "name": "stdout",
          "text": [
            "aqsa sedang memesan spagethii kejuuu\n"
          ]
        }
      ]
    },
    {
      "cell_type": "code",
      "source": [
        "food = \"corndog keju mozarella\"\n",
        "print(\"aqsha sedang memesan\", food)\n",
        "print(\"abiyu sedang memesan \"+ food)\n",
        "print(\"ariel sedang memesan %s\" % (food))"
      ],
      "metadata": {
        "colab": {
          "base_uri": "https://localhost:8080/"
        },
        "id": "RK5_ZfMCad_C",
        "outputId": "2ce7bcb1-463c-4dfe-be6b-aa329dc7f95f"
      },
      "execution_count": null,
      "outputs": [
        {
          "output_type": "stream",
          "name": "stdout",
          "text": [
            "aqsha sedang memesan corndog keju mozarella\n",
            "abiyu sedang memesan corndog keju mozarella\n",
            "ariel sedang memesan corndog keju mozarella\n"
          ]
        }
      ]
    },
    {
      "cell_type": "code",
      "source": [
        "a = 37\n",
        "b = 8\n",
        "print(\"penjumlahan:\", a + b)\n",
        "print(\"pengurangan:\", a - b)\n",
        "print(\"perkalian:\", a * b)\n",
        "print(\"pembagian:\", a / b)"
      ],
      "metadata": {
        "colab": {
          "base_uri": "https://localhost:8080/"
        },
        "id": "TsUFRBO7bgC9",
        "outputId": "de9f649c-d469-4c62-dedd-4eaf63354dde"
      },
      "execution_count": null,
      "outputs": [
        {
          "output_type": "stream",
          "name": "stdout",
          "text": [
            "penjumlahan: 45\n",
            "pengurangan: 29\n",
            "perkalian: 296\n",
            "pembagian: 4.625\n"
          ]
        }
      ]
    },
    {
      "cell_type": "code",
      "source": [
        "\n",
        "print(\"\\n=== Mengecek Bilangan ===\")\n",
        "bilangan = int(input(\"Masukkan sebuah bilangan: \"))\n",
        "\n",
        "hasil = (bilangan > 0) and (bilangan % 2 == 0)\n",
        "print(\"Genap dan positif?\", hasil)"
      ],
      "metadata": {
        "colab": {
          "base_uri": "https://localhost:8080/"
        },
        "id": "G7qx0mwwcy7V",
        "outputId": "2a2d4c4c-7eff-41ce-fa48-574855592f90"
      },
      "execution_count": null,
      "outputs": [
        {
          "output_type": "stream",
          "name": "stdout",
          "text": [
            "\n",
            "=== Mengecek Bilangan ===\n",
            "Masukkan sebuah bilangan: 6\n",
            "Genap dan positif? True\n"
          ]
        }
      ]
    },
    {
      "cell_type": "code",
      "source": [
        "\n",
        "print(\"\\n=== Kalkulator Kasir ===\")\n",
        "harga_makan = int(input(\"Berapa harga makanan per porsi? \"))\n",
        "jumlah_makan = int(input(\"Berapa porsi yang Anda beli? \"))\n",
        "\n",
        "total_makan = harga_makan * jumlah_makan\n",
        "print(f\"Harga makan per porsi = {harga_makan}, totalnya adalah {total_makan}\")\n"
      ],
      "metadata": {
        "colab": {
          "base_uri": "https://localhost:8080/"
        },
        "id": "4GmwXrDrfIKX",
        "outputId": "937bb703-a66a-4a8d-ab6e-67f30ac72356"
      },
      "execution_count": null,
      "outputs": [
        {
          "output_type": "stream",
          "name": "stdout",
          "text": [
            "\n",
            "=== Kalkulator Kasir ===\n",
            "Berapa harga makanan per porsi? 30000\n",
            "Berapa porsi yang Anda beli? 97\n",
            "Harga makan per porsi = 30000, totalnya adalah 2910000\n"
          ]
        }
      ]
    },
    {
      "cell_type": "code",
      "source": [
        "\n",
        "total_detik = int(input(\"Masukkan total detik: \"))\n",
        "jam = total_detik // 3600\n",
        "sisa_detik = total_detik % 3600\n",
        "menit = sisa_detik // 60\n",
        "detik = sisa_detik % 60\n",
        "print(f\"Hasil Konversi: {jam} Jam, {menit} Menit, {detik} Detik\")"
      ],
      "metadata": {
        "colab": {
          "base_uri": "https://localhost:8080/"
        },
        "id": "9uT5nAPYcxdd",
        "outputId": "d476f1ba-c1cd-4aa4-86b3-ef6043b2ff55"
      },
      "execution_count": null,
      "outputs": [
        {
          "output_type": "stream",
          "name": "stdout",
          "text": [
            "Masukkan total detik: 86543\n",
            "Hasil Konversi: 24 Jam, 2 Menit, 23 Detik\n"
          ]
        }
      ]
    },
    {
      "cell_type": "code",
      "source": [
        "tugas = 70\n",
        "uts = 85\n",
        "uas = 80\n",
        "nilai_akhir = (0.4 * tugas) + (0.2 * uts) + (0.5 * uas)\n",
        "print(\"nilai akhir =\", nilai_akhir)"
      ],
      "metadata": {
        "colab": {
          "base_uri": "https://localhost:8080/"
        },
        "id": "5yd16BFRhDz5",
        "outputId": "cef1f4f4-0f4b-4575-e4b9-27563539ea97"
      },
      "execution_count": null,
      "outputs": [
        {
          "output_type": "stream",
          "name": "stdout",
          "text": [
            "nilai akhir = 85.0\n"
          ]
        }
      ]
    },
    {
      "cell_type": "code",
      "source": [
        "\n",
        "tugas1 = float(input(\"Masukkan nilai Tugas 1: \"))\n",
        "tugas2 = float(input(\"Masukkan nilai Tugas 2: \"))\n",
        "kuis   = float(input(\"Masukkan nilai Kuis: \"))\n",
        "uts    = float(input(\"Masukkan nilai UTS: \"))\n",
        "uas    = float(input(\"Masukkan nilai UAS: \"))\n",
        "bobot_tugas1 = 0.15\n",
        "bobot_tugas2 = 0.15\n",
        "bobot_kuis   = 0.10\n",
        "bobot_uts    = 0.25\n",
        "bobot_uas    = 0.35\n",
        "nilai_mahasiswa = (tugas1 * bobot_tugas1) + \\\n",
        "                  (tugas2 * bobot_tugas2) + \\\n",
        "                  (kuis   * bobot_kuis)   + \\\n",
        "                  (uts    * bobot_uts)    + \\\n",
        "                  (uas    * bobot_uas)\n",
        "standar_kelulusan = float(input(\"Masukkan standar kelulusan: \"))\n",
        "apakah_lulus   = nilai_mahasiswa >= standar_kelulusan\n",
        "perlu_remedial = nilai_mahasiswa < standar_kelulusan\n",
        "print(\"\\n=== Hasil Perhitungan ===\")\n",
        "print(f\"Nilai Akhir Mahasiswa: {nilai_mahasiswa:.2f}\")\n",
        "print(f\"Standar Kelulusan: {standar_kelulusan}\")\n",
        "print(f\"Apakah Mahasiswa Lulus? {apakah_lulus}\")\n",
        "print(f\"Perlu Remedial? {perlu_remedial}\")"
      ],
      "metadata": {
        "colab": {
          "base_uri": "https://localhost:8080/"
        },
        "id": "YXfupvbJi6sz",
        "outputId": "7df4e6fe-3b26-46be-f244-9fb2cc40d5a2"
      },
      "execution_count": null,
      "outputs": [
        {
          "output_type": "stream",
          "name": "stdout",
          "text": [
            "Masukkan nilai Tugas 1: 90\n",
            "Masukkan nilai Tugas 2: 89\n",
            "Masukkan nilai Kuis: 80\n",
            "Masukkan nilai UTS: 100\n",
            "Masukkan nilai UAS: 79\n",
            "Masukkan standar kelulusan: 80\n",
            "\n",
            "=== Hasil Perhitungan ===\n",
            "Nilai Akhir Mahasiswa: 87.50\n",
            "Standar Kelulusan: 80.0\n",
            "Apakah Mahasiswa Lulus? True\n",
            "Perlu Remedial? False\n"
          ]
        }
      ]
    },
    {
      "cell_type": "code",
      "source": [
        "nilai_mahasiswa = 96\n",
        "standard_kelulusan = 88\n",
        "apakah_lulus = nilai_mahasiswa >= standard_kelulusan\n",
        "perlu_remedial = nilai_mahasiswa < standard_kelulusan\n",
        "print(f\"Nilai Mahasiswa: {nilai_mahasiswa}\")\n",
        "print(f\"Standard kelulusan: {standard_kelulusan}\")\n",
        "print(f\"Apakah mahasiswa lulus? {apakah_lulus}\")\n",
        "print(f\"perlu remedial? {perlu_remedial}\")"
      ],
      "metadata": {
        "colab": {
          "base_uri": "https://localhost:8080/"
        },
        "id": "Z6eDf4t0jxfR",
        "outputId": "ea7be44c-ebb4-422c-ed21-f423cf8c0768"
      },
      "execution_count": null,
      "outputs": [
        {
          "output_type": "stream",
          "name": "stdout",
          "text": [
            "Nilai Mahasiswa: 96\n",
            "Standard kelulusan: 88\n",
            "Apakah mahasiswa lulus? True\n",
            "perlu remedial? False\n"
          ]
        }
      ]
    },
    {
      "cell_type": "code",
      "source": [
        "belanja = 45000000\n",
        "diskon = (0, 0.35 * belanja)[belanja > 15750000]\n",
        "total_harga = belanja - diskon\n",
        "print(\"total harga setelah diskon =\", total_harga)"
      ],
      "metadata": {
        "colab": {
          "base_uri": "https://localhost:8080/"
        },
        "id": "qzl5oK3al3zN",
        "outputId": "e92e1881-87b2-4303-e5fc-197d8d40a351"
      },
      "execution_count": null,
      "outputs": [
        {
          "output_type": "stream",
          "name": "stdout",
          "text": [
            "total harga setelah diskon = 29250000.0\n"
          ]
        }
      ]
    },
    {
      "cell_type": "code",
      "source": [
        "\n",
        "jumlah_item = int(input(\"Masukkan jumlah item yang dibeli: \"))\n",
        "subtotal = 0\n",
        "for i in range(jumlah_item):\n",
        "    harga = float(input(f\"Masukkan harga item ke-{i+1}: Rp \"))\n",
        "    subtotal += harga\n",
        "member = input(\"Apakah pelanggan adalah member? (ya/tidak): \").lower()\n",
        "diskon = 0\n",
        "if member == \"ya\" and subtotal > 100000:\n",
        "    diskon = 0.15 * subtotal\n",
        "harga_setelah_diskon = subtotal - diskon\n",
        "\n",
        "ppn = 0.11 * harga_setelah_diskon\n",
        "\n",
        "total_akhir = harga_setelah_diskon + ppn\n",
        "\n",
        "\n",
        "print(\"\\n=== STRUK PEMBAYARAN ===\")\n",
        "print(f\"Subtotal              : Rp {subtotal:,.0f}\")\n",
        "print(f\"Diskon                : Rp {diskon:,.0f}\")\n",
        "print(f\"Harga Setelah Diskon  : Rp {harga_setelah_diskon:,.0f}\")\n",
        "print(f\"PPN (11%)             : Rp {ppn:,.0f}\")\n",
        "print(f\"TOTAL AKHIR           : Rp {total_akhir:,.0f}\")"
      ],
      "metadata": {
        "colab": {
          "base_uri": "https://localhost:8080/"
        },
        "id": "aEQZSCdQnbXO",
        "outputId": "c93791b4-abaa-478b-f677-73f0fa107a52"
      },
      "execution_count": null,
      "outputs": [
        {
          "output_type": "stream",
          "name": "stdout",
          "text": [
            "Masukkan jumlah item yang dibeli: 6\n",
            "Masukkan harga item ke-1: Rp 2500000\n",
            "Masukkan harga item ke-2: Rp 700000\n",
            "Masukkan harga item ke-3: Rp 890000\n",
            "Masukkan harga item ke-4: Rp 900000\n",
            "Masukkan harga item ke-5: Rp 8000000\n",
            "Masukkan harga item ke-6: Rp 600000\n",
            "Apakah pelanggan adalah member? (ya/tidak): ya\n",
            "\n",
            "=== STRUK PEMBAYARAN ===\n",
            "Subtotal              : Rp 13,590,000\n",
            "Diskon                : Rp 2,038,500\n",
            "Harga Setelah Diskon  : Rp 11,551,500\n",
            "PPN (11%)             : Rp 1,270,665\n",
            "TOTAL AKHIR           : Rp 12,822,165\n"
          ]
        }
      ]
    }
  ]
}